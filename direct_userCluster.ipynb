{
  "cells": [
    {
      "cell_type": "code",
      "execution_count": 2,
      "metadata": {
        "collapsed": true,
        "pycharm": {
          "is_executing": false
        }
      },
      "outputs": [],
      "source": "import loader\ndata_user \u003d loader.load(\u0027./data/userMini.json\u0027)\n"
    },
    {
      "cell_type": "code",
      "execution_count": 3,
      "outputs": [],
      "source": "data_business \u003d loader.load(\u0027./data/businessMini.json\u0027)",
      "metadata": {
        "pycharm": {
          "metadata": false,
          "name": "#%%\n",
          "is_executing": false
        }
      }
    },
    {
      "cell_type": "code",
      "execution_count": 5,
      "outputs": [],
      "source": "def index_category_builder(business):\n    index_category \u003d {}\n    index \u003d 0\n    for v in business.values():\n        for category in v[\u0027categories\u0027]:\n            if category not in index_category.keys():\n                index_category[category] \u003d index\n                index +\u003d 1\n    return index_category\nindex_category \u003d index_category_builder(data_business)\n",
      "metadata": {
        "pycharm": {
          "metadata": false,
          "name": "#%%\n",
          "is_executing": false
        }
      }
    },
    {
      "cell_type": "code",
      "execution_count": 13,
      "outputs": [],
      "source": "## get index_user and array_user\ndef index_user_builder(user, business):\n    index_user \u003d {}\n    array_user \u003d []\n    index \u003d 0\n    for k, v in user.items():\n        index_user[k] \u003d index\n        index +\u003d 1\n        tmp \u003d [0 for i in range(len(index_category))]\n        for businessId in v:\n            for category in business[businessId][\u0027categories\u0027]:\n                tmp[index_category[category]] +\u003d 1\n        array_user.append(tmp)\n    return index_user, array_user\nindex_user, array_user \u003d index_user_builder(data_user, data_business)\n",
      "metadata": {
        "pycharm": {
          "metadata": false,
          "name": "#%%\n",
          "is_executing": false
        }
      }
    },
    {
      "cell_type": "code",
      "execution_count": null,
      "outputs": [],
      "source": "##get array_user\ndef array_user_builder(user, index_category):\n    array_user \u003d []\n    for v in user.values():\n        tmp \u003d [0 for i in range(len(index_category))]\n        for businessId in v:\n            tmp[index_category[businessId]] +\u003d 1\n        array_user.append(tmp)\n    return array_user\narray_user \u003d array_user_builder(data_user, index_category)",
      "metadata": {
        "pycharm": {
          "metadata": false,
          "name": "#%%\n"
        }
      }
    },
    {
      "cell_type": "code",
      "execution_count": 17,
      "outputs": [],
      "source": "del data_business, data_user",
      "metadata": {
        "pycharm": {
          "metadata": false,
          "name": "#%%\n",
          "is_executing": false
        }
      }
    },
    {
      "cell_type": "code",
      "execution_count": 18,
      "outputs": [],
      "source": "## 余弦相似度的距离\ndef get_dis(array):\n    from sklearn.metrics.pairwise import pairwise_distances\n    dis \u003d pairwise_distances(array,metric\u003d\"cosine\")\n    return dis\ndis \u003d get_dis(array_user)\n\n",
      "metadata": {
        "pycharm": {
          "metadata": false,
          "name": "#%%\n",
          "is_executing": false
        }
      }
    }
  ],
  "metadata": {
    "language_info": {
      "codemirror_mode": {
        "name": "ipython",
        "version": 2
      },
      "file_extension": ".py",
      "mimetype": "text/x-python",
      "name": "python",
      "nbconvert_exporter": "python",
      "pygments_lexer": "ipython2",
      "version": "2.7.6"
    },
    "kernelspec": {
      "name": "python3",
      "language": "python",
      "display_name": "Python 3"
    }
  },
  "nbformat": 4,
  "nbformat_minor": 0
}