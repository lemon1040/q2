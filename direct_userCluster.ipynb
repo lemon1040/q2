{
  "cells": [
    {
      "cell_type": "code",
      "execution_count": 1,
      "metadata": {
        "collapsed": true,
        "pycharm": {
          "is_executing": false
        }
      },
      "outputs": [],
      "source": "import loader\ndata_user \u003d loader.load(\u0027./data/userMini.json\u0027)"
    },
    {
      "cell_type": "code",
      "execution_count": 16,
      "outputs": [],
      "source": "data_business \u003d loader.load(\u0027./data/businessMini.json\u0027)",
      "metadata": {
        "pycharm": {
          "metadata": false,
          "name": "#%%\n",
          "is_executing": false
        }
      }
    },
    {
      "cell_type": "code",
      "execution_count": 3,
      "outputs": [],
      "source": "banned_category \u003d [\u0027Restaurants\u0027]\n",
      "metadata": {
        "pycharm": {
          "metadata": false,
          "name": "#%%\n",
          "is_executing": false
        }
      }
    },
    {
      "cell_type": "code",
      "execution_count": 3,
      "outputs": [],
      "source": "banned_category \u003d []",
      "metadata": {
        "pycharm": {
          "metadata": false,
          "name": "#%%\n",
          "is_executing": false
        }
      }
    },
    {
      "cell_type": "code",
      "execution_count": 4,
      "outputs": [],
      "source": "def index_category_builder(business):\n    index_category \u003d {}\n    index \u003d 0\n    for v in business.values():\n        for category in v[\u0027categories\u0027]:\n            if category not in index_category.keys() and category not in banned_category:\n                index_category[category] \u003d index\n                index +\u003d 1\n    return index_category\nindex_category \u003d index_category_builder(data_business)\n",
      "metadata": {
        "pycharm": {
          "metadata": false,
          "name": "#%%\n",
          "is_executing": false
        }
      }
    },
    {
      "cell_type": "code",
      "execution_count": 5,
      "outputs": [],
      "source": "## get index_user and array_user\ndef index_user_builder(user, business):\n    index_user \u003d {}\n    array_user \u003d []\n    index \u003d 0\n    for k, v in user.items():\n        index_user[k] \u003d index\n        index +\u003d 1\n        tmp \u003d [0 for i in range(len(index_category))]\n        for businessId in v:\n            for category in business[businessId][\u0027categories\u0027]:\n                if category not in banned_category:\n                    tmp[index_category[category]] +\u003d 1\n        array_user.append(tmp)\n    return index_user, array_user\nindex_user, array_user \u003d index_user_builder(data_user, data_business)\n",
      "metadata": {
        "pycharm": {
          "metadata": false,
          "name": "#%%\n",
          "is_executing": false
        }
      }
    },
    {
      "cell_type": "code",
      "execution_count": 6,
      "outputs": [],
      "source": "del data_business, data_user",
      "metadata": {
        "pycharm": {
          "metadata": false,
          "name": "#%%\n",
          "is_executing": false
        }
      }
    },
    {
      "cell_type": "code",
      "execution_count": 7,
      "outputs": [],
      "source": "from sklearn import preprocessing\nscaler \u003d preprocessing.MinMaxScaler()\narray_user \u003d scaler.fit_transform(array_user)",
      "metadata": {
        "pycharm": {
          "metadata": false,
          "name": "#%%\n",
          "is_executing": false
        }
      }
    },
    {
      "cell_type": "code",
      "execution_count": null,
      "outputs": [],
      "source": "from sklearn import preprocessing\nscaler \u003d preprocessing.StandardScaler()\narray_user \u003d scaler.fit_transform(array_user)",
      "metadata": {
        "pycharm": {
          "metadata": false,
          "name": "#%%\n"
        }
      }
    },
    {
      "cell_type": "code",
      "execution_count": 8,
      "outputs": [],
      "source": "## 余弦相似度的距离\ndef get_cos_dis(array):\n    from sklearn.metrics.pairwise import pairwise_distances\n    dis \u003d pairwise_distances(array,metric\u003d\"cosine\")\n    return dis\n\n## 绘制KMeans K的聚类效果变化图\ndef measure_k(clusters, distortions):\n    import matplotlib.pyplot as plt\n    plt.plot(clusters,distortions,marker\u003d\"o\")\n    plt.xlabel(\"簇数量\")\n    plt.ylabel(\"簇内误方差(SSE)\")\n    plt.show()",
      "metadata": {
        "pycharm": {
          "metadata": false,
          "name": "#%%\n",
          "is_executing": false
        }
      }
    },
    {
      "cell_type": "code",
      "execution_count": 9,
      "outputs": [],
      "source": "dis \u003d get_cos_dis(array_user)",
      "metadata": {
        "pycharm": {
          "metadata": false,
          "name": "#%%\n",
          "is_executing": false
        }
      }
    },
    {
      "cell_type": "code",
      "execution_count": 10,
      "outputs": [],
      "source": "loader.save_dis(\u0027./data/dis_cos_directUser.txt\u0027, dis)",
      "metadata": {
        "pycharm": {
          "metadata": false,
          "name": "#%%\n",
          "is_executing": false
        }
      }
    },
    {
      "cell_type": "code",
      "execution_count": 11,
      "outputs": [],
      "source": "del dis",
      "metadata": {
        "pycharm": {
          "metadata": false,
          "name": "#%%\n",
          "is_executing": false
        }
      }
    },
    {
      "cell_type": "code",
      "execution_count": 12,
      "outputs": [],
      "source": "from sklearn.cluster import KMeans",
      "metadata": {
        "pycharm": {
          "metadata": false,
          "name": "#%%\n",
          "is_executing": false
        }
      }
    },
    {
      "cell_type": "code",
      "execution_count": 23,
      "outputs": [],
      "source": "method \u003d KMeans(n_clusters\u003d2, random_state\u003d9, algorithm\u003d\u0027full\u0027)\nkmeans_cluster \u003d method.fit(array_user)",
      "metadata": {
        "pycharm": {
          "metadata": false,
          "name": "#%%\n",
          "is_executing": false
        }
      }
    },
    {
      "cell_type": "code",
      "execution_count": 14,
      "outputs": [
        {
          "data": {
            "text/plain": "\u003cFigure size 640x480 with 1 Axes\u003e"
          },
          "metadata": {},
          "output_type": "display_data"
        }
      ],
      "source": "## 手肘法评测聚类效果\nimport matplotlib.pyplot as plt\ndistortions \u003d []\nfor i in range(1,11):\n    km \u003d KMeans(n_clusters\u003di, random_state\u003d9, algorithm\u003d\u0027full\u0027)\n    km.fit(array_user)\n    #获取K-means算法的SSE\n    distortions.append(km.inertia_)",
      "metadata": {
        "pycharm": {
          "metadata": false,
          "name": "#%%\n",
          "is_executing": false
        }
      }
    },
    {
      "cell_type": "code",
      "execution_count": 13,
      "outputs": [],
      "source": "## 轮廓系数评测聚类效果\nfrom sklearn import metrics\nclusters \u003d [2,3,4,5,8]\ndistortions \u003d []\nfor i in clusters:\n    km \u003d KMeans(n_clusters\u003di, random_state\u003d9, algorithm\u003d\u0027full\u0027)\n    km.fit(array_user)\n    silhouette_score \u003d metrics.silhouette_score(array_user, km.labels_, metric\u003d\u0027euclidean\u0027)\n    distortions.append(silhouette_score)\n    ",
      "metadata": {
        "pycharm": {
          "metadata": false,
          "name": "#%%\n",
          "is_executing": false
        }
      }
    },
    {
      "cell_type": "code",
      "execution_count": 15,
      "outputs": [
        {
          "data": {
            "text/plain": "\u003cFigure size 432x288 with 1 Axes\u003e",
            "image/png": "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\u003d\n"
          },
          "metadata": {
            "needs_background": "light"
          },
          "output_type": "display_data"
        }
      ],
      "source": "%matplotlib inline\nmeasure_k(clusters, distortions)",
      "metadata": {
        "pycharm": {
          "metadata": false,
          "name": "#%%\n",
          "is_executing": false
        }
      }
    },
    {
      "cell_type": "code",
      "execution_count": 11,
      "outputs": [],
      "source": "from fastCluster.fastSearchCluster import FastSearchCluster\npre \u003d FastSearchCluster()\npre.pre_data(\u0027dis_cos_directUser.txt\u0027)",
      "metadata": {
        "pycharm": {
          "metadata": false,
          "name": "#%%\n",
          "is_executing": false
        }
      }
    },
    {
      "cell_type": "code",
      "execution_count": 12,
      "outputs": [
        {
          "data": {
            "text/plain": "\u003cFigure size 432x288 with 1 Axes\u003e",
            "image/png": "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\u003d\n"
          },
          "metadata": {
            "needs_background": "light"
          },
          "output_type": "display_data"
        }
      ],
      "source": "%matplotlib inline\nfrom fastCluster.fastSearchCluster import plot_gamma\nplot_gamma(pre.gamma, pre.data_size / 7)",
      "metadata": {
        "pycharm": {
          "metadata": false,
          "name": "#%%\n",
          "is_executing": false
        }
      }
    },
    {
      "cell_type": "code",
      "execution_count": 19,
      "outputs": [
        {
          "data": {
            "text/plain": "\u003cFigure size 432x288 with 1 Axes\u003e",
            "image/png": "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\u003d\u003d\n"
          },
          "metadata": {
            "needs_background": "light"
          },
          "output_type": "display_data"
        },
        {
          "data": {
            "text/plain": "\u003cFigure size 432x288 with 0 Axes\u003e"
          },
          "metadata": {},
          "output_type": "display_data"
        }
      ],
      "source": "import matplotlib.pyplot as plt\ndes_gamma \u003d sorted(pre.gamma, reverse\u003dTrue)\nfor index, i in enumerate(des_gamma[:100]):\n    plt.scatter(index, i)\nplt.title(\"gamma diagram\")\nplt.show()\nplt.savefig(\u0027./data/img/gamma_diagram.png\u0027)\n",
      "metadata": {
        "pycharm": {
          "metadata": false,
          "name": "#%%\n",
          "is_executing": false
        }
      }
    },
    {
      "cell_type": "code",
      "execution_count": 30,
      "outputs": [],
      "source": "pre.calculate_cluster_center(600)",
      "metadata": {
        "pycharm": {
          "metadata": false,
          "name": "#%%\n",
          "is_executing": false
        }
      }
    },
    {
      "cell_type": "code",
      "execution_count": 29,
      "outputs": [
        {
          "traceback": [
            "\u001b[1;31m---------------------------------------------------------------------------\u001b[0m",
            "\u001b[1;31mAttributeError\u001b[0m                            Traceback (most recent call last)",
            "\u001b[1;32m\u003cipython-input-29-a883b9e0cf0a\u003e\u001b[0m in \u001b[0;36m\u003cmodule\u003e\u001b[1;34m\u001b[0m\n\u001b[1;32m----\u003e 1\u001b[1;33m \u001b[0mpre\u001b[0m\u001b[1;33m.\u001b[0m\u001b[0mget_cluster\u001b[0m\u001b[1;33m(\u001b[0m\u001b[1;33m)\u001b[0m\u001b[1;33m\u001b[0m\u001b[1;33m\u001b[0m\u001b[0m\n\u001b[0m",
            "\u001b[1;32m~\\Desktop\\q2\\fastCluster\\fastSearchCluster.py\u001b[0m in \u001b[0;36mget_cluster\u001b[1;34m(self)\u001b[0m\n\u001b[0;32m    201\u001b[0m         \u001b[1;32mfor\u001b[0m \u001b[0mindex\u001b[0m \u001b[1;32min\u001b[0m \u001b[0mrho_des_index\u001b[0m\u001b[1;33m:\u001b[0m\u001b[1;33m\u001b[0m\u001b[1;33m\u001b[0m\u001b[0m\n\u001b[0;32m    202\u001b[0m             \u001b[1;32mif\u001b[0m \u001b[0mindex\u001b[0m \u001b[1;32mnot\u001b[0m \u001b[1;32min\u001b[0m \u001b[0mcluster_center\u001b[0m\u001b[1;33m:\u001b[0m\u001b[1;33m\u001b[0m\u001b[1;33m\u001b[0m\u001b[0m\n\u001b[1;32m--\u003e 203\u001b[1;33m                 \u001b[0mself\u001b[0m\u001b[1;33m.\u001b[0m\u001b[0mcluster_temp\u001b[0m\u001b[1;33m[\u001b[0m\u001b[0mindex\u001b[0m\u001b[1;33m]\u001b[0m \u001b[1;33m\u003d\u001b[0m \u001b[0mself\u001b[0m\u001b[1;33m.\u001b[0m\u001b[0mcluster_temp\u001b[0m\u001b[1;33m[\u001b[0m\u001b[0mself\u001b[0m\u001b[1;33m.\u001b[0m\u001b[0mmaster\u001b[0m\u001b[1;33m[\u001b[0m\u001b[0mindex\u001b[0m\u001b[1;33m]\u001b[0m\u001b[1;33m]\u001b[0m\u001b[1;33m\u001b[0m\u001b[1;33m\u001b[0m\u001b[0m\n\u001b[0m\u001b[0;32m    204\u001b[0m         \u001b[1;32mdel\u001b[0m \u001b[0mself\u001b[0m\u001b[1;33m.\u001b[0m\u001b[0mmaster\u001b[0m\u001b[1;33m\u001b[0m\u001b[1;33m\u001b[0m\u001b[0m\n\u001b[0;32m    205\u001b[0m         \u001b[1;32mfor\u001b[0m \u001b[0mindex\u001b[0m \u001b[1;32min\u001b[0m \u001b[0mrange\u001b[0m\u001b[1;33m(\u001b[0m\u001b[0mlen\u001b[0m\u001b[1;33m(\u001b[0m\u001b[0mcluster_center\u001b[0m\u001b[1;33m)\u001b[0m\u001b[1;33m)\u001b[0m\u001b[1;33m:\u001b[0m\u001b[1;33m\u001b[0m\u001b[1;33m\u001b[0m\u001b[0m\n",
            "\u001b[1;31mAttributeError\u001b[0m: \u0027FastSearchCluster\u0027 object has no attribute \u0027master\u0027"
          ],
          "ename": "AttributeError",
          "evalue": "\u0027FastSearchCluster\u0027 object has no attribute \u0027master\u0027",
          "output_type": "error"
        }
      ],
      "source": "pre.get_cluster()",
      "metadata": {
        "pycharm": {
          "metadata": false,
          "name": "#%%\n",
          "is_executing": false
        }
      }
    },
    {
      "cell_type": "code",
      "execution_count": 18,
      "outputs": [
        {
          "name": "stdout",
          "text": [
            "1219\n"
          ],
          "output_type": "stream"
        }
      ],
      "source": "print(len(index_category.values()))",
      "metadata": {
        "pycharm": {
          "metadata": false,
          "name": "#%%\n",
          "is_executing": false
        }
      }
    },
    {
      "cell_type": "code",
      "execution_count": 24,
      "outputs": [],
      "source": "import numpy as np",
      "metadata": {
        "pycharm": {
          "metadata": false,
          "name": "#%%\n",
          "is_executing": false
        }
      }
    },
    {
      "cell_type": "code",
      "execution_count": 26,
      "outputs": [
        {
          "name": "stdout",
          "text": [
            "2212\n"
          ],
          "output_type": "stream"
        }
      ],
      "source": "print(len(np.where(kmeans_cluster.labels_ \u003d\u003d 0)[0]))",
      "metadata": {
        "pycharm": {
          "metadata": false,
          "name": "#%%\n",
          "is_executing": false
        }
      }
    },
    {
      "cell_type": "code",
      "execution_count": 30,
      "outputs": [],
      "source": "## 得到聚类分组\ncluster \u003d []\nfor i in range(2):\n    tmp \u003d []\n    for ele in np.argwhere(kmeans_cluster.labels_ \u003d\u003d i)[:, 0]:\n        tmp.append(ele)\n    cluster.append(tmp)",
      "metadata": {
        "pycharm": {
          "metadata": false,
          "name": "#%%\n",
          "is_executing": false
        }
      }
    },
    {
      "cell_type": "code",
      "execution_count": 33,
      "outputs": [],
      "source": "## 得到每个聚类的热点标签的下标\nhot_category_index \u003d []\nfor clu in cluster:\n    clu_array \u003d np.zeros(len(array_user[0, :]))\n    for user_index in clu:\n        clu_array +\u003d array_user[user_index, :]\n    des \u003d np.argsort(-clu_array)\n    hot_category_index.append(list(des[0: min(int(0.01 * len(des)), 3)]))",
      "metadata": {
        "pycharm": {
          "metadata": false,
          "name": "#%%\n",
          "is_executing": false
        }
      }
    },
    {
      "cell_type": "code",
      "execution_count": 35,
      "outputs": [],
      "source": "## 得到热点标签\nhot_category \u003d []\nfor clu in hot_category_index:\n    clu_array \u003d []\n    for category_index in clu:\n        clu_array.append(list(index_category.keys())[category_index])\n    hot_category.append(clu_array)\n",
      "metadata": {
        "pycharm": {
          "metadata": false,
          "name": "#%%\n",
          "is_executing": false
        }
      }
    }
  ],
  "metadata": {
    "language_info": {
      "codemirror_mode": {
        "name": "ipython",
        "version": 2
      },
      "file_extension": ".py",
      "mimetype": "text/x-python",
      "name": "python",
      "nbconvert_exporter": "python",
      "pygments_lexer": "ipython2",
      "version": "2.7.6"
    },
    "kernelspec": {
      "name": "python3",
      "language": "python",
      "display_name": "Python 3"
    }
  },
  "nbformat": 4,
  "nbformat_minor": 0
}