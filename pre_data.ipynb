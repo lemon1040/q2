{
  "cells": [
    {
      "cell_type": "code",
      "execution_count": 19,
      "metadata": {
        "collapsed": true,
        "pycharm": {
          "is_executing": false
        }
      },
      "outputs": [],
      "source": "import loader\ndata_user \u003d loader.load(\u0027./data/user_business_223699.json\u0027)\n"
    },
    {
      "cell_type": "code",
      "execution_count": 15,
      "outputs": [],
      "source": "data_business \u003d loader.load(\u0027./data/business_163665.json\u0027)\n",
      "metadata": {
        "pycharm": {
          "metadata": false,
          "name": "#%%\n",
          "is_executing": false
        }
      }
    },
    {
      "cell_type": "code",
      "execution_count": 16,
      "outputs": [],
      "source": "need_arr \u003d [\u0027categories\u0027, \u0027city\u0027]\n",
      "metadata": {
        "pycharm": {
          "metadata": false,
          "name": "#%%\n",
          "is_executing": false
        }
      }
    },
    {
      "cell_type": "code",
      "execution_count": null,
      "outputs": [],
      "source": "def less_user(num, user_dict):\n    miniUser \u003d {}\n    for k, v in user_dict.items():\n        if len(v) \u003e\u003d num:\n            miniUser[k] \u003d v\n    return miniUser\ndata_user \u003d less_user(50, data_user)\n",
      "metadata": {
        "pycharm": {
          "metadata": false,
          "name": "#%%\n"
        }
      }
    },
    {
      "cell_type": "code",
      "execution_count": 23,
      "outputs": [],
      "source": "data_miniBusiness \u003d {}\nfor v in data_user.values():\n    for businessId in v:\n        if businessId not in data_miniBusiness.keys():\n            data_miniBusiness[businessId] \u003d data_business[businessId]\n            \n    ",
      "metadata": {
        "pycharm": {
          "metadata": false,
          "name": "#%%\n",
          "is_executing": false
        }
      }
    },
    {
      "cell_type": "code",
      "execution_count": 24,
      "outputs": [],
      "source": "for businessId, v in data_miniBusiness.items():\n    dicts \u003d {}\n    for k in v.keys():\n        if k in need_arr:\n            dicts[k] \u003d v[k]\n    data_miniBusiness[businessId] \u003d dicts\n    ",
      "metadata": {
        "pycharm": {
          "metadata": false,
          "name": "#%%\n",
          "is_executing": false
        }
      }
    },
    {
      "cell_type": "code",
      "execution_count": 8,
      "outputs": [],
      "source": "del data_business\n",
      "metadata": {
        "pycharm": {
          "metadata": false,
          "name": "#%%\n",
          "is_executing": false
        }
      }
    },
    {
      "cell_type": "code",
      "execution_count": 27,
      "outputs": [],
      "source": "loader.save(\u0027./data/userMini.json\u0027, data_user)\n",
      "metadata": {
        "pycharm": {
          "metadata": false,
          "name": "#%%\n",
          "is_executing": false
        }
      }
    },
    {
      "cell_type": "code",
      "execution_count": 28,
      "outputs": [],
      "source": "loader.save(\u0027./data/businessMini.json\u0027, data_miniBusiness)\n\n",
      "metadata": {
        "pycharm": {
          "metadata": false,
          "name": "#%%\n",
          "is_executing": false
        }
      }
    }
  ],
  "metadata": {
    "language_info": {
      "codemirror_mode": {
        "name": "ipython",
        "version": 2
      },
      "file_extension": ".py",
      "mimetype": "text/x-python",
      "name": "python",
      "nbconvert_exporter": "python",
      "pygments_lexer": "ipython2",
      "version": "2.7.6"
    },
    "kernelspec": {
      "name": "python3",
      "language": "python",
      "display_name": "Python 3"
    }
  },
  "nbformat": 4,
  "nbformat_minor": 0
}